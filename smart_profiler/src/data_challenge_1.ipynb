{
 "cells": [
  {
   "cell_type": "markdown",
   "id": "12d71c50-5c17-4a55-a12e-f8545222732d",
   "metadata": {},
   "source": [
    "# Data Engineer\n",
    "\n",
    "Hot topics:\n",
    "- Data Operations, manejo de datos.\n",
    "- ETL + ELT\n",
    "- Formatos de Archivo\n",
    "- Compresión.\n",
    "- Airflow.\n",
    "\n",
    "1. Importamos datos desde texto plano."
   ]
  },
  {
   "cell_type": "code",
   "execution_count": 3,
   "id": "a4f6466f-7b93-4876-87d4-fc8a7770b23c",
   "metadata": {},
   "outputs": [
    {
     "name": "stdout",
     "output_type": "stream",
     "text": [
      "root\n",
      " |-- _c0: string (nullable = true)\n",
      " |-- name: string (nullable = true)\n",
      " |-- address: string (nullable = true)\n",
      " |-- birthday: string (nullable = true)\n",
      " |-- email: string (nullable = true)\n",
      " |-- password: string (nullable = true)\n",
      " |-- groceries: string (nullable = true)\n",
      " |-- device_number: string (nullable = true)\n",
      " |-- fav_colour: string (nullable = true)\n",
      " |-- job: string (nullable = true)\n",
      " |-- description: string (nullable = true)\n",
      " |-- user_agent: string (nullable = true)\n",
      "\n"
     ]
    }
   ],
   "source": [
    "from pyspark.sql import SparkSession, Window\n",
    "import pyspark.sql.functions as F\n",
    "import pyspark.sql.types as T\n",
    "from pyspark.ml.fpm import FPGrowth\n",
    "from utils.open import open_csv\n",
    "\n",
    "_spark = SparkSession.builder.appName('smart_profiler').getOrCreate()\n",
    "df = _spark.read.csv('data/data_coupp.csv', sep='|', quote='\"', header=True)\n",
    "df.printSchema()\n"
   ]
  },
  {
   "cell_type": "markdown",
   "id": "cb9fcaa8-ff4d-48ea-858e-9f5d8de6787c",
   "metadata": {},
   "source": [
    "2. Indica las diferencias entre ETL y ELT.\n",
    "3. Cuántas personas hay entre 30 y 50 años?\n",
    "4. Cuántos profesionales de cada tipo existen entre 25 y 30 años?\n",
    "5. Cuántas personas tienen como color favorito rojo o negro?\n",
    "6. Escribe una función que retorne un dataframe con el id y el numero de productos en la lista de compra. \n",
    "7. Diferencias entre texto plano, parquet y avro (Muestre ejemplos).\n",
    "8. Uso de componentes en Airflow. Estudio de caso.\n",
    "9. Grafique la frecuencia de preofesiones. \n",
    "10. Descripción general del proceso de streaming en GCP. "
   ]
  }
 ],
 "metadata": {
  "kernelspec": {
   "display_name": "Python 3 (ipykernel)",
   "language": "python",
   "name": "python3"
  },
  "language_info": {
   "codemirror_mode": {
    "name": "ipython",
    "version": 3
   },
   "file_extension": ".py",
   "mimetype": "text/x-python",
   "name": "python",
   "nbconvert_exporter": "python",
   "pygments_lexer": "ipython3",
   "version": "3.10.8"
  }
 },
 "nbformat": 4,
 "nbformat_minor": 5
}
